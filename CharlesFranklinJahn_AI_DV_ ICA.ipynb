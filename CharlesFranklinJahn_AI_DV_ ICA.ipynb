{
 "cells": [
  {
   "cell_type": "markdown",
   "id": "e2728730",
   "metadata": {},
   "source": [
    "# CCT College Dublin\n",
    " ## Artificial Intelligence and Data Visualisation & Communication\n",
    "\n",
    "Student: Charles Franklin Jahn 2020315\n",
    "\n",
    "Lecturer: David Mcquaid & Sam Weiss\n",
    "\n",
    "BSc (Hons) in Computing in IT - 4nd Year\n",
    "\n",
    "04/12/2023 - 05/01/2024"
   ]
  },
  {
   "cell_type": "code",
   "execution_count": null,
   "id": "85c58dcd",
   "metadata": {},
   "outputs": [],
   "source": [
    "#pip install python-constraint"
   ]
  },
  {
   "cell_type": "code",
   "execution_count": null,
   "id": "332065f2",
   "metadata": {},
   "outputs": [],
   "source": [
    "import tkinter as tk\n",
    "from tkinter import ttk\n",
    "from constraint import Problem, AllDifferentConstraint"
   ]
  },
  {
   "cell_type": "code",
   "execution_count": null,
   "id": "d96e2289",
   "metadata": {},
   "outputs": [],
   "source": [
    "# Create a problem instance\n",
    "problem = Problem()"
   ]
  },
  {
   "cell_type": "code",
   "execution_count": null,
   "id": "e94f3eff",
   "metadata": {},
   "outputs": [],
   "source": []
  }
 ],
 "metadata": {
  "kernelspec": {
   "display_name": "Python 3 (ipykernel)",
   "language": "python",
   "name": "python3"
  },
  "language_info": {
   "codemirror_mode": {
    "name": "ipython",
    "version": 3
   },
   "file_extension": ".py",
   "mimetype": "text/x-python",
   "name": "python",
   "nbconvert_exporter": "python",
   "pygments_lexer": "ipython3",
   "version": "3.9.7"
  }
 },
 "nbformat": 4,
 "nbformat_minor": 5
}
